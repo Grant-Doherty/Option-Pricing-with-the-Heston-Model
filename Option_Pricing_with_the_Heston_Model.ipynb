{
 "cells": [
  {
   "cell_type": "markdown",
   "metadata": {},
   "source": [
    "Adjust cell width\n",
    "<style>\n",
    "    .jp-Notebook .jp-Cell {\n",
    "        max-width: 70%; /* or any value like 80%, 1200px, etc. */\n",
    "    }\n",
    "</style>\n"
   ]
  },
  {
   "cell_type": "markdown",
   "metadata": {},
   "source": [
    "the notebook should be written based on chapters 1. 2. 3... \\\n",
    "shrink the cell dimensions, \\\n",
    "look into the best way to post/ upload a notebook onto github. \\ \n",
    "make white. look through all the lighting settings. \\\n",
    "look for other notebook projects online and see what they do for schemes. some may not but you'll find one eventually. maybe as someone. "
   ]
  },
  {
   "cell_type": "markdown",
   "metadata": {},
   "source": []
  },
  {
   "cell_type": "markdown",
   "metadata": {},
   "source": [
    "### Foreword \n",
    "\n",
    "One of my goals for this project is to communicate the content such that most people can follow along with the content. This project has theoretical and computational components that may out of the level of most readers, but the logic of each bit of math and code is described in full. Some of the discriptions will be redundant for some, yet necessary for others. \n",
    "\n",
    "make sure you sign the top and bottoom of this. Stamp your style on it. name, light descriptiuon of ur goal maybe. \n"
   ]
  },
  {
   "cell_type": "markdown",
   "metadata": {},
   "source": [
    "\n",
    "<br>\n",
    "\n",
    "# Introduction\n",
    "\n",
    "\n",
    "The following notebook outlines a personal \"pet project\" regarding the implementation of a financial model that is used for in pricing options in finance. Explaining an options in depth would exceed the bredth of project so I'll leave these two very useful resources to the reader if required. More information on what an option is in finance, see Link 1 and Link 2.\n",
    "\n",
    "\n",
    "The model on which this project is based on is known as the Heston Model, published by Steven Heston in 1993 ([Link](https://www.ma.imperial.ac.uk/~ajacquie/IC_Num_Methods/IC_Num_Methods_Docs/Literature/Heston.pdf)). Heston showed that modelling the price of an asset while being proportional/influenced???? on the volatility of the same asset can model asset price evolution reasonably well and can therefore be used to price options. Introducing the effects of the volatility of the underlying adressed a problem in the then popular Black-Scholes Equation (Link).\n",
    "\n",
    "This project is a simple case study of the Heston model. In this pet project, I...\n",
    "\n",
    "1. Summarize the relevant theory from Heston's 1993 paper.\n",
    "2. Explain the logic and goals of the project,\n",
    "3. Introduce the S&P 500 Option data on which we'll study,\n",
    "4. Implement the Heston Model in code (python),\n",
    "5. Investigate the raw model and show it's behaviour under change in different parameters, \n",
    "6. Outline and implement calibration methods in order to accurately price options,\n",
    "7. Test the calibrated model against market data to test model accuracy,\n",
    "8. Investigate and perform advanced tests on the calibrated model,\n",
    "9. Conclusions,\n",
    "\n",
    "\n",
    "<br>"
   ]
  },
  {
   "cell_type": "markdown",
   "metadata": {},
   "source": [
    "## 1. Theory\n",
    "\n",
    "Steven Heston's 1993 paper shows that price of an asset at time $t$, $S_t$ can be modelled using the diffusion model\n",
    "\n",
    "$$\n",
    "dS_t = rS_tdt+\\sqrt{v_t}S_tdW_{S,t} \\quad (1)\n",
    "$$\n",
    "\n",
    "where $r$ is the risk-free interest rate and $dW_{S,t}$ is a Wiener process (ADD LINK). Heston goes to show that the volatility of an asset $v_t$ can be modelled through\n",
    "\n",
    "$$\n",
    "dv_t = \\kappa (\\theta - v_t)dt + \\sigma \\sqrt{v_t}dW_{v,t} \\quad (2)\n",
    "$$\n",
    "\n",
    "where $\\kappa$ is the rate at which the volatility reverts to it's long-term mean $\\theta$, and $\\sigma$ is the volatiliy of volatility (vol of vol). $dW_{v,t}$ is another Wiener process and is correlated to $dW_{S,t}$ via\n",
    "\n",
    "$$\n",
    "dW_{S,t} \\cdot dW_{v,t} = \\rho dt \\quad (3)\n",
    "$$\n",
    "\n",
    "<br>\n",
    "\n",
    "<br>\n",
    "As with the case of the Black-Scholes equation, the Heston model assumes a solution in the form \n",
    "\n",
    "$$\n",
    "C(S,V, T) = SP_1 - Ke^{-T \\ (r-q)}P_2 \\quad (4)\n",
    "$$ \n",
    "\n",
    "where \"the  first  term  is  the  present  value  of  the  spot  asset  upon  optimal\n",
    "exercise,  and  the  second  term  is  the  present  value  of  the  strike-price\n",
    "payment\". The terms $P_j$ are the conditional probabilities that the the option will expire in-the-money. \n",
    "\n",
    "<br>\n",
    "\n",
    "Determining the probabilities $P_j$ is the main focus of computation. Such probabilities can be found by computing \n",
    "\n",
    "$$\n",
    "P_j(x,V_t,T,K) = \\frac{1}{2} + \\frac{1}{\\pi} \\int^{+\\infty}_{\\phi=0} Re\\left[ \\frac{e^{-i\\phi k} f_j(\\phi |x_t,V_t,t, T)}{i\\phi}\\right] d\\phi \\quad (5)\n",
    "$$\n",
    "\n",
    "the characteristic functions are given by \n",
    "\n",
    "$$\n",
    "f_j(\\phi |x_t,V_t,t, T) = \\text{exp} \\{C_j(\\phi|\\tau)+D_j(\\phi|\\tau)V_t + i\\phi x_t \\}\n",
    "$$\n",
    "\n",
    "where\n",
    "\n",
    "$$\n",
    "C_j(\\phi| \\tau) = i\\phi(r-q)\\tau + \\frac{a}{\\sigma^2}\\left[(b_j-i\\phi\\rho\\sigma + d_j)\\tau - 2\\text{ln}\\frac{1-g_je^{d_j \\tau}}{1-g_j}\\right]\n",
    "$$\n",
    "\n",
    "$$\n",
    "D_j(\\phi | \\tau)= [\\frac{b_j - i\\phi \\rho \\sigma + d_j}{\\sigma^2}] [\\frac{1- e^{d_j \\tau}}{1-g_j e^{d_j \\tau}}]\n",
    "$$\n",
    "\n",
    "$$\n",
    "g_j(\\phi)=\\frac{b_j - i\\phi \\rho \\sigma + d_j}{b_j - i\\phi \\rho \\sigma - d_j}\n",
    "$$\n",
    "\n",
    "$$\n",
    "d_j(\\phi)=\\sqrt{(i\\phi \\rho \\sigma - b_j)^2 - \\sigma^2 (2 i \\phi u_j - \\phi^2)}\n",
    "$$\n",
    "\n",
    "$$\n",
    "a=\\kappa \\theta\n",
    "$$\n",
    "\n",
    "$$\n",
    "u_{j= 1,2}=\\left[\\frac{1}{2} , -\\frac{1}{2}\\right]\n",
    "$$\n",
    "\n",
    "$$\n",
    "b_{j=1,2}= [\\kappa-\\rho\\sigma ,  \\kappa]\n",
    "$$\n",
    "\n",
    "Computing Equation 4 returns the price of a call option given sufficient option contract information."
   ]
  },
  {
   "cell_type": "markdown",
   "metadata": {},
   "source": []
  },
  {
   "cell_type": "markdown",
   "metadata": {},
   "source": [
    "# Black-Box Perspective\n",
    "\n",
    "This model calculates the price of options provided that all option contract variables and asset parameters are known.\n",
    "\n",
    "\n",
    "### Option Contract Variables\n",
    "Contract <u>Variables</u> are a set of information about the option contract that is *known*. By analogy, when someone signs into a mortgage contrat for a house, the borrower is aware of specific terms such as the loan amount, interest rate, loan term, down payment, etc. Similarly, there are a set of variables that are known to the buyer of an option. These are:\n",
    "\n",
    "\n",
    "* **$S_t$** - Spot Price. &nbsp; &nbsp; &nbsp; &nbsp; The price of the underlying asset at the time of buying the option.\n",
    "* **$K$** - Strike Price. &nbsp; &nbsp; &nbsp; &nbsp; The price in which the asset may be bought once the contract matures.\n",
    "* **$T$** - Time to Maturity. &nbsp; &nbsp; &nbsp; &nbsp; The time (in years) until the the contract may be executed.\n",
    "* **$r$** - Rate. &nbsp; &nbsp; &nbsp; &nbsp; The risk-free interest rate of the asset. \n",
    "* **$\\text{Ask}$** - Ask Price. &nbsp; &nbsp; &nbsp; &nbsp; The price at which the underlying may be bought for at maturity.  \n",
    "\n",
    "\n",
    "### Asset Parameters\n",
    "Unlike contract variables which are known before the purchase of the contract, there are a set of *parameters* which describe mathematical properties of the underlying asset. These parameters are not perfectly deterministic and are subject to change through time. For example, the volatility of an asset can be estimated to a good approximation, but it is subject to change as time and the market evolve. There are no laws in which these parameters can be calculated, but there are methods (such as model calibration) which can be used to determine good approximations. \n",
    "\n",
    "* **$V_t$** - Spot Volatility. &nbsp; &nbsp; &nbsp; &nbsp; The volatility of the underlying stock at the time of buying the option. \n",
    "* **$\\sigma$** - Volatility of the Volatility (vol of vol). &nbsp; &nbsp; &nbsp; &nbsp; The rate at which the volatility of an asset changes over time. Reflects uncertainty in an asset's volatitlity.\n",
    "* **$\\theta$** - Long-Term Mean of the Volatility. &nbsp; &nbsp; &nbsp; &nbsp; The average (mean) value of the asset's volatility. \n",
    "* **$\\kappa$** - Rate of Mean Reversion. &nbsp; &nbsp; &nbsp; &nbsp; The rate at which the asset's volatility returns back to the long-term mean $\\theta$.\n",
    "* **$\\rho$** - Correlation Factor. &nbsp; &nbsp; &nbsp; &nbsp; Dictates the degree to which the price and volatility of an asset are correlated.  "
   ]
  },
  {
   "cell_type": "markdown",
   "metadata": {},
   "source": []
  },
  {
   "cell_type": "markdown",
   "metadata": {},
   "source": [
    "# Introducing the Logic of Implementing and Using the Heston Model\n"
   ]
  },
  {
   "cell_type": "markdown",
   "metadata": {},
   "source": [
    "As eluded to earlier, the model *variables* is information that we get from data. This project uses a collection of S&P 500 option contract data from 2018 to test the model on. When the model is first built, as the researcher, we dont have any knowledge of what the asset parameters should be valued at. We can make good guesses but we will rely on a technique called model calibration to estimate the value of these parameters. \n",
    "\n",
    "After building the model and showing that it works on arbitrary contract variables and asset parameters, we'll calibrate the model to estimate the model parameters on a specific date, then use these parameter values to accurately price options. \n",
    "\n",
    "The following code will follow this logic by first introduing the data, then implementing the Heston model, testing it on arbitrary data, then calibrating the model to market data to price future option prices. "
   ]
  },
  {
   "cell_type": "markdown",
   "metadata": {},
   "source": []
  },
  {
   "cell_type": "markdown",
   "metadata": {},
   "source": [
    "# Dependencies"
   ]
  },
  {
   "cell_type": "code",
   "execution_count": 1,
   "metadata": {},
   "outputs": [],
   "source": [
    "import numpy as np\n",
    "import pandas as pd\n",
    "import matplotlib.pyplot as plt \n",
    "from scipy.optimize import minimize"
   ]
  },
  {
   "cell_type": "code",
   "execution_count": 3,
   "metadata": {},
   "outputs": [
    {
     "name": "stderr",
     "output_type": "stream",
     "text": [
      "C:\\Users\\grant\\AppData\\Local\\Temp\\ipykernel_32392\\2267850314.py:1: DeprecationWarning: Importing display from IPython.core.display is deprecated since IPython 7.14, please import from IPython display\n",
      "  from IPython.core.display import display, HTML\n"
     ]
    },
    {
     "data": {
      "text/html": [
       "<style>.container {width:70% !important; }"
      ],
      "text/plain": [
       "<IPython.core.display.HTML object>"
      ]
     },
     "metadata": {},
     "output_type": "display_data"
    }
   ],
   "source": [
    "from IPython.core.display import display, HTML\n",
    "display(HTML(\"<style>.container {width:70% !important; }\"))"
   ]
  },
  {
   "cell_type": "markdown",
   "metadata": {},
   "source": [
    "# 1. Data\n",
    "\n",
    "The following dataframe contains 8963 S&P 500 call options from January - December, 2018. Option information is shown below.\n",
    "\n",
    "<!-- * Date the option was listed.\n",
    "* Maturity: The number of days until the contract matures.\n",
    "* Strike: The price to acquire the underlying at maturity.\n",
    "* Ask: The price of the call option.    SWITCH THIS TO BE AFTER THE DATE IN THE EXCEL TOO \n",
    "* Implied Volatility: PUT THIS AT THE END\n",
    "* Vega/kappa: PUT THIS AT THE END \n",
    "* Rate: The rate at which the underlying is growing.\n",
    "* Spot: The price of the S&P 500 at the date of the listing. PUT THIS TOWARDS THE BEGINNING -->\n",
    "\n"
   ]
  },
  {
   "cell_type": "code",
   "execution_count": 3,
   "metadata": {},
   "outputs": [
    {
     "data": {
      "application/vnd.microsoft.datawrangler.viewer.v0+json": {
       "columns": [
        {
         "name": "index",
         "rawType": "int64",
         "type": "integer"
        },
        {
         "name": "Date of Price",
         "rawType": "datetime64[ns]",
         "type": "datetime"
        },
        {
         "name": "Maturity",
         "rawType": "int64",
         "type": "integer"
        },
        {
         "name": "Strike",
         "rawType": "int64",
         "type": "integer"
        },
        {
         "name": "min Ask",
         "rawType": "float64",
         "type": "float"
        },
        {
         "name": "Implied Volatility",
         "rawType": "float64",
         "type": "float"
        },
        {
         "name": "Vega/Kappa",
         "rawType": "float64",
         "type": "float"
        },
        {
         "name": "Rate",
         "rawType": "float64",
         "type": "float"
        },
        {
         "name": "Spot",
         "rawType": "float64",
         "type": "float"
        }
       ],
       "conversionMethod": "pd.DataFrame",
       "ref": "c5ce7385-bd7e-42b1-8ac7-cf114282dfe8",
       "rows": [
        [
         "0",
         "2018-01-16 00:00:00",
         "94",
         "1200",
         "1575.6",
         "0.612367",
         "9.031871",
         "1.45",
         "2776.419922"
        ],
        [
         "1",
         "2018-01-16 00:00:00",
         "94",
         "1350",
         "1426.5",
         "0.551055",
         "13.24697",
         "1.45",
         "2776.419922"
        ],
        [
         "2",
         "2018-01-16 00:00:00",
         "94",
         "1400",
         "1376.8",
         "0.530554",
         "14.79347",
         "1.45",
         "2776.419922"
        ],
        [
         "3",
         "2018-01-16 00:00:00",
         "94",
         "1450",
         "1327.3",
         "0.521513",
         "18.83515",
         "1.45",
         "2776.419922"
        ],
        [
         "4",
         "2018-01-16 00:00:00",
         "94",
         "1500",
         "1277.4",
         "0.492622",
         "18.77173",
         "1.45",
         "2776.419922"
        ]
       ],
       "shape": {
        "columns": 8,
        "rows": 5
       }
      },
      "text/html": [
       "<div>\n",
       "<style scoped>\n",
       "    .dataframe tbody tr th:only-of-type {\n",
       "        vertical-align: middle;\n",
       "    }\n",
       "\n",
       "    .dataframe tbody tr th {\n",
       "        vertical-align: top;\n",
       "    }\n",
       "\n",
       "    .dataframe thead th {\n",
       "        text-align: right;\n",
       "    }\n",
       "</style>\n",
       "<table border=\"1\" class=\"dataframe\">\n",
       "  <thead>\n",
       "    <tr style=\"text-align: right;\">\n",
       "      <th></th>\n",
       "      <th>Date of Price</th>\n",
       "      <th>Maturity</th>\n",
       "      <th>Strike</th>\n",
       "      <th>min Ask</th>\n",
       "      <th>Implied Volatility</th>\n",
       "      <th>Vega/Kappa</th>\n",
       "      <th>Rate</th>\n",
       "      <th>Spot</th>\n",
       "    </tr>\n",
       "  </thead>\n",
       "  <tbody>\n",
       "    <tr>\n",
       "      <th>0</th>\n",
       "      <td>2018-01-16</td>\n",
       "      <td>94</td>\n",
       "      <td>1200</td>\n",
       "      <td>1575.6</td>\n",
       "      <td>0.612367</td>\n",
       "      <td>9.031871</td>\n",
       "      <td>1.45</td>\n",
       "      <td>2776.419922</td>\n",
       "    </tr>\n",
       "    <tr>\n",
       "      <th>1</th>\n",
       "      <td>2018-01-16</td>\n",
       "      <td>94</td>\n",
       "      <td>1350</td>\n",
       "      <td>1426.5</td>\n",
       "      <td>0.551055</td>\n",
       "      <td>13.246970</td>\n",
       "      <td>1.45</td>\n",
       "      <td>2776.419922</td>\n",
       "    </tr>\n",
       "    <tr>\n",
       "      <th>2</th>\n",
       "      <td>2018-01-16</td>\n",
       "      <td>94</td>\n",
       "      <td>1400</td>\n",
       "      <td>1376.8</td>\n",
       "      <td>0.530554</td>\n",
       "      <td>14.793470</td>\n",
       "      <td>1.45</td>\n",
       "      <td>2776.419922</td>\n",
       "    </tr>\n",
       "    <tr>\n",
       "      <th>3</th>\n",
       "      <td>2018-01-16</td>\n",
       "      <td>94</td>\n",
       "      <td>1450</td>\n",
       "      <td>1327.3</td>\n",
       "      <td>0.521513</td>\n",
       "      <td>18.835150</td>\n",
       "      <td>1.45</td>\n",
       "      <td>2776.419922</td>\n",
       "    </tr>\n",
       "    <tr>\n",
       "      <th>4</th>\n",
       "      <td>2018-01-16</td>\n",
       "      <td>94</td>\n",
       "      <td>1500</td>\n",
       "      <td>1277.4</td>\n",
       "      <td>0.492622</td>\n",
       "      <td>18.771730</td>\n",
       "      <td>1.45</td>\n",
       "      <td>2776.419922</td>\n",
       "    </tr>\n",
       "  </tbody>\n",
       "</table>\n",
       "</div>"
      ],
      "text/plain": [
       "  Date of Price  Maturity  Strike  min Ask  Implied Volatility  Vega/Kappa  \\\n",
       "0    2018-01-16        94    1200   1575.6            0.612367    9.031871   \n",
       "1    2018-01-16        94    1350   1426.5            0.551055   13.246970   \n",
       "2    2018-01-16        94    1400   1376.8            0.530554   14.793470   \n",
       "3    2018-01-16        94    1450   1327.3            0.521513   18.835150   \n",
       "4    2018-01-16        94    1500   1277.4            0.492622   18.771730   \n",
       "\n",
       "   Rate         Spot  \n",
       "0  1.45  2776.419922  \n",
       "1  1.45  2776.419922  \n",
       "2  1.45  2776.419922  \n",
       "3  1.45  2776.419922  \n",
       "4  1.45  2776.419922  "
      ]
     },
     "execution_count": 3,
     "metadata": {},
     "output_type": "execute_result"
    }
   ],
   "source": [
    "df = pd.read_excel('Data\\S&P_500.xlsx',\n",
    "                    index_col=False,\n",
    "                    header=0)\n",
    "df['Date of Price'] = pd.to_datetime(df['Date of Price'])\n",
    "df.head()"
   ]
  },
  {
   "cell_type": "code",
   "execution_count": 4,
   "metadata": {},
   "outputs": [
    {
     "data": {
      "image/png": "[encoded data removed]",
      "text/plain": [
       "<Figure size 640x480 with 1 Axes>"
      ]
     },
     "metadata": {},
     "output_type": "display_data"
    },
    {
     "name": "stdout",
     "output_type": "stream",
     "text": [
      "First Date: 2018-01-16 00:00:00, Last Date: 2018-12-28 00:00:00\n",
      "Number of Unique Days: 98\n",
      "Average Number of Strikes per Day: 91.45918367346938\n",
      "Min Number of Strikes per Day: 26\n",
      "Max Number of Strikes per Day: 140\n",
      "Median Number of Strikes per Day: 98.0\n"
     ]
    }
   ],
   "source": [
    "sampled_df = df.groupby(df['Date of Price'].dt.date).apply(lambda x: x.sample(1)).reset_index(drop=True)\n",
    "price_array = sampled_df.iloc[:,-1].astype(float).to_numpy()\n",
    "# date_array = sampled_df['Date of Price'].dt.date.to_numpy()\n",
    "date_array = pd.to_datetime(sampled_df['Date of Price'])\n",
    "# plt.plot(price_array)\n",
    "plt.plot(date_array, price_array)\n",
    "plt.ylabel('S&P 500 in USD')\n",
    "plt.xlabel('Days since ')\n",
    "plt.show()\n",
    "\n",
    "print(f\"First Date: {df.iloc[0,0]}, Last Date: {df.iloc[-1,0]}\")\n",
    "N_days = df['Date of Price'].nunique()\n",
    "counts_per_day = df.groupby(df['Date of Price'].dt.date).size()\n",
    "print(f\"Number of Unique Days: {N_days}\")\n",
    "print(f\"Average Number of Strikes per Day: {counts_per_day.mean()}\")\n",
    "print(f\"Min Number of Strikes per Day: {counts_per_day.min()}\")\n",
    "print(f\"Max Number of Strikes per Day: {counts_per_day.max()}\")\n",
    "print(f\"Median Number of Strikes per Day: {counts_per_day.median()}\")"
   ]
  },
  {
   "cell_type": "markdown",
   "metadata": {},
   "source": [
    "# 2. The Heston Model and Intergration Method\n",
    "\n",
    "Simpson's 3/8 Rule integration technique was used for this project for a couple of reasons. First, it's an adaptive technique (can be used genreally on functions), HANDLES ENDPOITNS AND SINGULARITIES WELL???, and is simple to implement. "
   ]
  },
  {
   "cell_type": "code",
   "execution_count": 4,
   "metadata": {},
   "outputs": [],
   "source": [
    "### INTEGRATION PARAMETERS \n",
    "integration_a = 0.0001\n",
    "integration_b = 200\n",
    "integration_n = 500\n",
    "int_params = integration_a, integration_b, integration_n\n",
    "\n",
    "\n",
    "# Simpson's integration method\n",
    "def simpson(f, P1P2, params, args, integration_parameters = int_params):\n",
    "\n",
    "    \"\"\"\n",
    "    args: \n",
    "        f: the integrand function\n",
    "        P1P2 = [1,2]: for the two probabilities in Equation 5\n",
    "        params type = array or tuple? : \n",
    "            Heston model parameters V_t, kappa, sigma, rho, theta\n",
    "        integration_parameters: tuple\n",
    "            a,b,n = integration start, stop, and abscissas (right word?)\n",
    "    \"\"\"\n",
    "\n",
    "    a,b,n = integration_parameters\n",
    "    wrapped_function = lambda phi: f(phi, P1P2, params, args)\n",
    "    \n",
    "    h = (b-a)/n\n",
    "    xs = np.linspace(a,b,n+1)\n",
    "    ys = wrapped_function(xs)\n",
    "\n",
    "    if (n % 2) != 0:\n",
    "        raise ValueError(\"n must be divisable by 2.\")\n",
    "    \n",
    "    AA = ys[0] + ys[-1] + 4*np.sum(ys[1:-1:2]) + 2*np.sum(ys[2:-2:2])     # Check that this is right\n",
    "\n",
    "    return (h/3)*AA"
   ]
  },
  {
   "cell_type": "markdown",
   "metadata": {},
   "source": [
    "The following code is used to calculate the price of an option, given sufficient information on the option. This works by calling `Call()`, which executes the integration of `Heston()` and calculates the price using Equation 4. "
   ]
  },
  {
   "cell_type": "code",
   "execution_count": 5,
   "metadata": {},
   "outputs": [],
   "source": [
    "def integrand(phi, P1P2, params, args):\n",
    "\n",
    "    \"\"\"\n",
    "    Characteristic function f(phi) that will be integrated over in Equation (1)\n",
    "\n",
    "    Args:\n",
    "            S_t: underlying price at time t\n",
    "            V_t: underlying variance at t\n",
    "            phi: integration parameter\n",
    "            r: risk-free rate\n",
    "            q: dividend yield\n",
    "            T: time to maturity\n",
    "            sigma: vol of vol???????\n",
    "            rho: correlation factor\n",
    "            theta: long term mean of the volatility \n",
    "\n",
    "    Outputs:\n",
    "            f_j(phi)\n",
    "    \n",
    "    \n",
    "    \"\"\"\n",
    "\n",
    "    q = 0\n",
    "    t = 0\n",
    "\n",
    "    V_t, rho, kappa, theta, sigma = params\n",
    "    S_t, K, T, r = args\n",
    "    \n",
    "    C,D,g,d,f=np.zeros(2),np.zeros(2),np.zeros(2),np.zeros(2),np.zeros(2)\n",
    "    b=np.array([kappa - rho*sigma, kappa])[P1P2-1]\n",
    "    u=np.array([0.5, -0.5])[P1P2-1]\n",
    "    a=kappa*theta\n",
    "\n",
    "    xx = 1j*phi*rho*sigma\n",
    "    tau = T-t\n",
    "    k = np.log(K)\n",
    "\n",
    "    d = np.sqrt(np.power(xx - b,2) - np.power(sigma,2) * (2j*phi*u - np.power(phi,2)))\n",
    "    g = (b - xx + d) / (b - xx - d)\n",
    "\n",
    "    C = 1j*phi*(r-q)*tau + (a/np.power(sigma,2)) * ( (b-xx+d)*tau - (2*np.log( (1-g*np.exp(d*tau)) / (1-g) )) )\n",
    "    D = ((b - xx + d) / (np.power(sigma,2))) * ((1-np.exp(d*tau))/(1-g*np.exp(d*tau)))\n",
    "\n",
    "    f = np.exp(C + D*V_t + 1j*phi*np.log(S_t))\n",
    "       \n",
    "\n",
    "    return (np.exp(-1j*phi*k)*f/(1j*phi)).real"
   ]
  },
  {
   "cell_type": "code",
   "execution_count": null,
   "metadata": {},
   "outputs": [],
   "source": [
    "def call(f, params, args):\n",
    "    \n",
    "    q = 0\n",
    "    t = 0\n",
    "\n",
    "    S_t, K, T, r = args\n",
    "\n",
    "    P1 = (1/2) + (1/np.pi) * simpson(f, P1P2=1, params=params, args=args)\n",
    "    P2 = (1/2) + (1/np.pi) * simpson(f, P1P2=2, params=params, args=args)\n",
    "\n",
    "    return S_t*P1 - K*np.exp(-(r-q)*(T-t))*P2\n"
   ]
  },
  {
   "cell_type": "markdown",
   "metadata": {},
   "source": [
    "3. we have to at least show that it's working. plot random unclaibrated parameters compared to market data. \n"
   ]
  },
  {
   "cell_type": "markdown",
   "metadata": {},
   "source": [
    "4. Model Calibration\n",
    "\n",
    "First, some background on model calibration. \n",
    "\n",
    "Remember, the HModel() \n",
    "\n",
    "go through the logic of calibrating, and testing the model. "
   ]
  },
  {
   "cell_type": "code",
   "execution_count": null,
   "metadata": {},
   "outputs": [],
   "source": []
  },
  {
   "cell_type": "markdown",
   "metadata": {},
   "source": [
    "# Model Calibration"
   ]
  },
  {
   "cell_type": "markdown",
   "metadata": {},
   "source": [
    "### Defining an objective function\n",
    "\n",
    "$$\n",
    "some equation \n",
    "$$\n"
   ]
  },
  {
   "cell_type": "code",
   "execution_count": 7,
   "metadata": {},
   "outputs": [],
   "source": [
    "def objectivefcn(params, S_t, K, T, r, Ask):\n",
    "\n",
    "    \"\"\"\n",
    "    Inputs:\n",
    "        Model parameters to be calibrated (params): V_t, rho, kappa, theta, sigma\n",
    "        Market data of the underlying: S_t, K, T, r, Ask, vega, impVol\n",
    "\n",
    "    Outputs:\n",
    "        Sum of squared errors (SSE) \n",
    "    \"\"\"\n",
    "\n",
    "    Error = []\n",
    "    other_args = Ask\n",
    "\n",
    "    for i in range( len(S_t) ):\n",
    "        model_args = S_t[i], K[i], T[i], r[i]\n",
    "        Error.append( np.power(call(integrand, params, model_args) - Ask[i], 2) )\n",
    "\n",
    "    return np.array(Error).sum()\n"
   ]
  },
  {
   "cell_type": "markdown",
   "metadata": {},
   "source": [
    "### Set-up Calibration and Test Datasets "
   ]
  },
  {
   "cell_type": "code",
   "execution_count": 30,
   "metadata": {},
   "outputs": [],
   "source": [
    "# Define calibration and test data -> SET \"calibration_data\" TO THE DF YOU WANT TO CALIBRATE WITH\n",
    "day01 = df[df['Date of Price'] == '2018-01-16']\n",
    "day02 = df[df['Date of Price'] == '2018-01-17']\n",
    "\n",
    "month01 = df[df['Date of Price'].dt.month == 1]\n",
    "test_day26 = df[df['Date of Price'] == '2018-01-26']\n",
    "test_month = df[df['Date of Price'].dt.month == 2]\n",
    "\n",
    "\n",
    "\n",
    "# Set calibration and test df\n",
    "calibration_data = day01\n",
    "test_data = test_day26"
   ]
  },
  {
   "cell_type": "markdown",
   "metadata": {},
   "source": [
    "### Initial guess of parameters"
   ]
  },
  {
   "cell_type": "code",
   "execution_count": 9,
   "metadata": {},
   "outputs": [],
   "source": [
    "# Initial parameter guess\n",
    "V_t = 0.07\n",
    "kappa = 1.5\n",
    "sigma = 0.01\n",
    "rho = -0.3\n",
    "theta = 0.08\n",
    "params0 = [V_t, rho, kappa, theta, sigma]"
   ]
  },
  {
   "cell_type": "code",
   "execution_count": 24,
   "metadata": {},
   "outputs": [],
   "source": [
    "def calibrate_data(date, data = df, calibration_method = 'SLSQP'):\n",
    "\n",
    "    calibration_data = data[data['Date of Price'] == '2018-01-16']\n",
    "    calibration_args = calibration_data['Spot'], calibration_data['Strike'], calibration_data['Maturity'], calibration_data['Rate'], calibration_data['min Ask']\n",
    "\n",
    "    return minimize(objectivefcn, x0=params0, args = calibration_args, method = calibration_method, tol=1e-6)\n"
   ]
  },
  {
   "cell_type": "code",
   "execution_count": 25,
   "metadata": {},
   "outputs": [
    {
     "name": "stderr",
     "output_type": "stream",
     "text": [
      "C:\\Users\\grant\\AppData\\Local\\Temp\\ipykernel_2432\\3998999857.py:41: RuntimeWarning: overflow encountered in exp\n",
      "  C = 1j*phi*(r-q)*tau + (a/np.power(sigma,2)) * ( (b-xx+d)*tau - (2*np.log( (1-g*np.exp(d*tau)) / (1-g) )) )\n",
      "C:\\Users\\grant\\AppData\\Local\\Temp\\ipykernel_2432\\3998999857.py:41: RuntimeWarning: invalid value encountered in multiply\n",
      "  C = 1j*phi*(r-q)*tau + (a/np.power(sigma,2)) * ( (b-xx+d)*tau - (2*np.log( (1-g*np.exp(d*tau)) / (1-g) )) )\n",
      "C:\\Users\\grant\\AppData\\Local\\Temp\\ipykernel_2432\\3998999857.py:41: RuntimeWarning: invalid value encountered in log\n",
      "  C = 1j*phi*(r-q)*tau + (a/np.power(sigma,2)) * ( (b-xx+d)*tau - (2*np.log( (1-g*np.exp(d*tau)) / (1-g) )) )\n",
      "C:\\Users\\grant\\AppData\\Local\\Temp\\ipykernel_2432\\3998999857.py:42: RuntimeWarning: overflow encountered in exp\n",
      "  D = ((b - xx + d) / (np.power(sigma,2))) * ((1-np.exp(d*tau))/(1-g*np.exp(d*tau)))\n",
      "C:\\Users\\grant\\AppData\\Local\\Temp\\ipykernel_2432\\3998999857.py:42: RuntimeWarning: invalid value encountered in multiply\n",
      "  D = ((b - xx + d) / (np.power(sigma,2))) * ((1-np.exp(d*tau))/(1-g*np.exp(d*tau)))\n",
      "C:\\Users\\grant\\AppData\\Local\\Temp\\ipykernel_2432\\3998999857.py:42: RuntimeWarning: invalid value encountered in divide\n",
      "  D = ((b - xx + d) / (np.power(sigma,2))) * ((1-np.exp(d*tau))/(1-g*np.exp(d*tau)))\n",
      "C:\\Users\\grant\\AppData\\Local\\Temp\\ipykernel_2432\\3998999857.py:44: RuntimeWarning: overflow encountered in exp\n",
      "  f = np.exp(C + D*V_t + 1j*phi*np.log(S_t))\n",
      "C:\\Users\\grant\\AppData\\Local\\Temp\\ipykernel_2432\\3998999857.py:47: RuntimeWarning: invalid value encountered in multiply\n",
      "  return (np.exp(-1j*phi*k)*f/(1j*phi)).real\n",
      "C:\\Users\\grant\\AppData\\Local\\Temp\\ipykernel_2432\\3998999857.py:47: RuntimeWarning: invalid value encountered in divide\n",
      "  return (np.exp(-1j*phi*k)*f/(1j*phi)).real\n",
      "C:\\Users\\grant\\AppData\\Local\\Temp\\ipykernel_2432\\3998999857.py:42: RuntimeWarning: overflow encountered in divide\n",
      "  D = ((b - xx + d) / (np.power(sigma,2))) * ((1-np.exp(d*tau))/(1-g*np.exp(d*tau)))\n",
      "C:\\Users\\grant\\AppData\\Local\\Temp\\ipykernel_2432\\3998999857.py:41: RuntimeWarning: overflow encountered in divide\n",
      "  C = 1j*phi*(r-q)*tau + (a/np.power(sigma,2)) * ( (b-xx+d)*tau - (2*np.log( (1-g*np.exp(d*tau)) / (1-g) )) )\n",
      "C:\\Users\\grant\\AppData\\Local\\Temp\\ipykernel_2432\\3998999857.py:39: RuntimeWarning: invalid value encountered in divide\n",
      "  g = (b - xx + d) / (b - xx - d)\n",
      "C:\\Users\\grant\\AppData\\Local\\Temp\\ipykernel_2432\\3998999857.py:41: RuntimeWarning: invalid value encountered in divide\n",
      "  C = 1j*phi*(r-q)*tau + (a/np.power(sigma,2)) * ( (b-xx+d)*tau - (2*np.log( (1-g*np.exp(d*tau)) / (1-g) )) )\n"
     ]
    },
    {
     "data": {
      "text/plain": [
       " message: Iteration limit reached\n",
       " success: False\n",
       "  status: 9\n",
       "     fun: nan\n",
       "       x: [       nan        nan        nan        nan        nan]\n",
       "     nit: 100\n",
       "     jac: [       nan        nan        nan        nan        nan]\n",
       "    nfev: 1688\n",
       "    njev: 100"
      ]
     },
     "execution_count": 25,
     "metadata": {},
     "output_type": "execute_result"
    }
   ],
   "source": [
    "calibrate_data('2018-02-14')"
   ]
  },
  {
   "cell_type": "code",
   "execution_count": 27,
   "metadata": {},
   "outputs": [],
   "source": [
    "SLSQP = [ 1.261e-02, -6.358e-01,  3.076e-02,  5.771e-02,  4.050e-01]"
   ]
  },
  {
   "cell_type": "markdown",
   "metadata": {},
   "source": [
    "### Test the Calibration\n",
    "\n",
    "The function below plots the modelled option prices vs market prices if multiple_days == Fales.\n",
    "\n",
    "else, it plots the error of multiple days idk "
   ]
  },
  {
   "cell_type": "code",
   "execution_count": null,
   "metadata": {},
   "outputs": [],
   "source": [
    "def check_calibration(data, params, multiple_days = False): \n",
    "\n",
    "    calls = []\n",
    "    error = []\n",
    "    multiple_day_error = []\n",
    "    unique_dates = data['Date of Price'].dt.date.unique()\n",
    "\n",
    "    if multiple_days:\n",
    "        grouped_data = data.groupby(data['Date of Price'].dt.date)\n",
    "\n",
    "        for date, group in grouped_data:\n",
    "\n",
    "            S_t = group['Spot']\n",
    "            K = group['Strike']\n",
    "            T = group['Maturity']/365\n",
    "            r = group['Rate']/100\n",
    "            Ask = group['min Ask']\n",
    "\n",
    "            # other\n",
    "            vega = group['Vega/Kappa']\n",
    "            impVol = group['Implied Volatility']\n",
    "\n",
    "            for i in range(len(group)):\n",
    "            \n",
    "                model_args = S_t.iloc[i], K.iloc[i], T.iloc[i], r.iloc[i]\n",
    "                CALL = (call(integrand, params, model_args))\n",
    "                error.append(abs(CALL - Ask.iloc[i]))\n",
    "            \n",
    "            multiple_day_error.append(np.array(error).sum())\n",
    "            error = []\n",
    "\n",
    "        plt.plot(multiple_day_error)\n",
    "\n",
    "    else:\n",
    "\n",
    "        S_t = data['Spot']\n",
    "        K = data['Strike']\n",
    "        T = data['Maturity']/365\n",
    "        r = data['Rate']/100\n",
    "        Ask = data['min Ask']\n",
    "        vega = data['Vega/Kappa']\n",
    "        impVol = data['Implied Volatility']\n",
    "        \n",
    "        for i in range(len(S_t)):\n",
    "            model_args = S_t.iloc[i], K.iloc[i], T.iloc[i], r.iloc[i]\n",
    "            calls.append(call(integrand, params, model_args))\n",
    "            error.append(abs(calls[i] - Ask.iloc[i]))\n",
    "    \n",
    "        plt.plot(K, calls, label = \"Model Calls\")\n",
    "        plt.plot(K, Ask, label = \"Market Calls\")\n",
    "        plt.legend()\n",
    "        plt.xlabel(\"Strikes\")\n",
    "        plt.ylabel(\"Call Values\")\n",
    "        plt.show()\n",
    "\n",
    "        print(f'Model-Market error (sum of difference) = {np.array(error).sum()}')\n",
    "\n",
    "    return"
   ]
  },
  {
   "cell_type": "markdown",
   "metadata": {},
   "source": [
    "Let's look at how the model performs when we test it on the same day that we trained it on. In reality this doesnt give us too much insight since the calibration and testing are done on the sane datafrane\n"
   ]
  },
  {
   "cell_type": "code",
   "execution_count": 29,
   "metadata": {},
   "outputs": [
    {
     "data": {
      "image/png": "[encoded data removed]",
      "text/plain": [
       "<Figure size 640x480 with 1 Axes>"
      ]
     },
     "metadata": {},
     "output_type": "display_data"
    },
    {
     "name": "stdout",
     "output_type": "stream",
     "text": [
      "Model-Market error (sum of difference) = 121.88659513533186\n"
     ]
    }
   ],
   "source": [
    "check_calibration(day01, SLSQP)"
   ]
  },
  {
   "cell_type": "markdown",
   "metadata": {},
   "source": [
    "Let's see how it does on the next day."
   ]
  },
  {
   "cell_type": "code",
   "execution_count": 32,
   "metadata": {},
   "outputs": [
    {
     "data": {
      "image/png": "[encoded data removed]",
      "text/plain": [
       "<Figure size 640x480 with 1 Axes>"
      ]
     },
     "metadata": {},
     "output_type": "display_data"
    },
    {
     "name": "stdout",
     "output_type": "stream",
     "text": [
      "Model-Market error (sum of difference) = 140.65205126909453\n"
     ]
    }
   ],
   "source": [
    "check_calibration(day02, SLSQP)"
   ]
  },
  {
   "cell_type": "markdown",
   "metadata": {},
   "source": [
    "let's try modelling for an entire month"
   ]
  },
  {
   "cell_type": "code",
   "execution_count": 36,
   "metadata": {},
   "outputs": [
    {
     "data": {
      "image/png": "[encoded data removed]",
      "text/plain": [
       "<Figure size 640x480 with 1 Axes>"
      ]
     },
     "metadata": {},
     "output_type": "display_data"
    }
   ],
   "source": [
    "check_calibration(month01, SLSQP, multiple_days=True)"
   ]
  },
  {
   "cell_type": "markdown",
   "metadata": {},
   "source": [
    "and for the entire year"
   ]
  },
  {
   "cell_type": "code",
   "execution_count": 37,
   "metadata": {},
   "outputs": [
    {
     "data": {
      "image/png": "[encoded data removed]",
      "text/plain": [
       "<Figure size 640x480 with 1 Axes>"
      ]
     },
     "metadata": {},
     "output_type": "display_data"
    }
   ],
   "source": [
    "check_calibration(df, SLSQP, multiple_days=True)"
   ]
  },
  {
   "cell_type": "markdown",
   "metadata": {},
   "source": [
    "mapping how well the model performs on longer timeframes gives us insight on how well the model performs on determining the values of the asset paramers. This is why we expect the model to perform worse the modeled timeframe increases as the model parameters chance with time. "
   ]
  },
  {
   "cell_type": "code",
   "execution_count": null,
   "metadata": {},
   "outputs": [],
   "source": []
  },
  {
   "cell_type": "code",
   "execution_count": null,
   "metadata": {},
   "outputs": [],
   "source": []
  },
  {
   "cell_type": "code",
   "execution_count": null,
   "metadata": {},
   "outputs": [],
   "source": []
  },
  {
   "cell_type": "code",
   "execution_count": null,
   "metadata": {},
   "outputs": [],
   "source": []
  }
 ],
 "metadata": {
  "kernelspec": {
   "display_name": "Python 3 (ipykernel)",
   "language": "python",
   "name": "python3"
  },
  "language_info": {
   "codemirror_mode": {
    "name": "ipython",
    "version": 3
   },
   "file_extension": ".py",
   "mimetype": "text/x-python",
   "name": "python",
   "nbconvert_exporter": "python",
   "pygments_lexer": "ipython3",
   "version": "3.11.5"
  }
 },
 "nbformat": 4,
 "nbformat_minor": 4
}
